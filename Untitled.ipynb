{
 "cells": [
  {
   "cell_type": "code",
   "execution_count": null,
   "metadata": {
    "collapsed": true
   },
   "outputs": [],
   "source": [
    "# UC San Diego, Graduate School of Global Policy and Strategy\n",
    "# Data Mining and Predictive Analytics Class 2017\n",
    "# Final Project\n",
    "# Kyle N., Anton P.\n",
    "\n",
    "# Clear \n",
    "rm(list = ls(all.names = TRUE))\n",
    "\n",
    "#### Load packages and data ####\n",
    "library(jsonlite)\n",
    "yelp_business <- stream_in(file(\"/Users/MacBookAir/Desktop/GoogleDrive/DATA/R/r-big-data/yelp_dataset_challenge_round9/yelp_academic_dataset_business.json\"))\n",
    "# yelp_checkin <- stream_in(file(\"r-big-data/yelp_dataset_challenge_round9/yelp_academic_dataset_checkin.json\"))\n",
    "# yelp_tip <- stream_in(file(\"r-big-data/yelp_dataset_challenge_round9/yelp_academic_dataset_tip.json\"))\n",
    "# # Warning! 1+ GB file \n",
    "# yelp_user <- stream_in(file(\"r-big-data/yelp_dataset_challenge_round9/yelp_academic_dataset_user.json\"))\n",
    "# Warning! 3+ GB file\n",
    "# yelp_review <- stream_in(file(\"/Users/MacBookAir/Desktop/GoogleDrive/DATA/R/r-big-data/yelp_dataset_challenge_round9/yelp_academic_dataset_review.json\"))"
   ]
  },
  {
   "cell_type": "code",
   "execution_count": 1,
   "metadata": {
    "collapsed": false
   },
   "outputs": [
    {
     "name": "stderr",
     "output_type": "stream",
     "text": [
      "Google Maps API Terms of Service: http://developers.google.com/maps/terms.\n",
      "Please cite ggmap if you use it: see citation(\"ggmap\") for details.\n"
     ]
    },
    {
     "ename": "ERROR",
     "evalue": "Error in eval(expr, envir, enclos): object 'yelp_business' not found\n",
     "output_type": "error",
     "traceback": [
      "Error in eval(expr, envir, enclos): object 'yelp_business' not found\nTraceback:\n"
     ]
    }
   ],
   "source": [
    "# loading the required packages\n",
    "# devtools::install_github(\"dkahle/ggmap\")\n",
    "library(ggplot2)\n",
    "library(ggmap)\n",
    "\n",
    "# creating a sample data.frame with your lat/lon points\n",
    "lon <- yelp_business$longitude\n",
    "lat <- yelp_business$latitude\n",
    "df <- as.data.frame(cbind(lon,lat))"
   ]
  },
  {
   "cell_type": "code",
   "execution_count": null,
   "metadata": {
    "collapsed": true
   },
   "outputs": [],
   "source": [
    "# getting the map\n",
    "mapgilbert <- get_map(location = c(lon = mean(df$lon), lat = mean(df$lat)), zoom = 4,\n",
    "                      maptype = \"roadmap\", scale = 2)\n",
    "\n",
    "# plotting the map with some points on it\n",
    "ggmap(mapgilbert) +\n",
    "  geom_point(data = df, aes(x = lon, y = lat, fill = \"red\", alpha = 0.8), size = 1, shape = 21) +\n",
    "  guides(fill=FALSE, alpha=FALSE, size=FALSE)"
   ]
  }
 ],
 "metadata": {
  "kernelspec": {
   "display_name": "R",
   "language": "R",
   "name": "ir"
  },
  "language_info": {
   "codemirror_mode": "r",
   "file_extension": ".r",
   "mimetype": "text/x-r-source",
   "name": "R",
   "pygments_lexer": "r",
   "version": "3.3.2"
  }
 },
 "nbformat": 4,
 "nbformat_minor": 2
}
